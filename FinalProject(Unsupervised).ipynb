{
  "nbformat": 4,
  "nbformat_minor": 0,
  "metadata": {
    "colab": {
      "provenance": []
    },
    "kernelspec": {
      "name": "python3",
      "display_name": "Python 3"
    },
    "language_info": {
      "name": "python"
    }
  },
  "cells": [
    {
      "cell_type": "code",
      "source": [
        "from google.colab import drive\n",
        "drive.mount('/content/drive')"
      ],
      "metadata": {
        "colab": {
          "base_uri": "https://localhost:8080/"
        },
        "id": "4MGN8bhKHjxh",
        "outputId": "ac700aec-4b3b-4fee-8b72-8ffef7ec2506"
      },
      "execution_count": 5,
      "outputs": [
        {
          "output_type": "stream",
          "name": "stdout",
          "text": [
            "Mounted at /content/drive\n"
          ]
        }
      ]
    },
    {
      "cell_type": "markdown",
      "source": [
        "# **Final Project - Building Recommender System for Restaurant Rating Prediction**\n",
        "\n",
        "### **Dataset Information**\n",
        "In this final project, I use Restaurant Data with Consumer Ratings from Kaggle(https://www.kaggle.com/datasets/uciml/restaurant-data-with-consumer-ratings). There are nine data files: five files are information about restaurants, three files are about the customers, and one is the user-item ratings. But we are not going to use all files in this prediction project."
      ],
      "metadata": {
        "id": "l8r_K0G8HBV0"
      }
    },
    {
      "cell_type": "code",
      "execution_count": 3,
      "metadata": {
        "id": "ulikvit9GR3Q"
      },
      "outputs": [],
      "source": [
        "import pandas as pd\n",
        "import matplotlib.pyplot as plt\n",
        "import numpy as np\n",
        "import seaborn as sns\n",
        "from scipy.sparse.linalg import svds\n",
        "from sklearn.cluster import KMeans\n",
        "from surprise import Dataset, Reader\n",
        "from surprise import SVD, SlopeOne, CoClustering, KNNBasic, KNNWithMeans, KNNWithZScore\n",
        "from surprise.model_selection import cross_validate"
      ]
    },
    {
      "cell_type": "markdown",
      "source": [
        "### **1. Exploratory Data Analysis (EDA)**"
      ],
      "metadata": {
        "id": "PVfO8eqKHLDP"
      }
    },
    {
      "cell_type": "code",
      "source": [
        "rt_ratings = pd.read_csv(\"/content/drive/MyDrive/archive/rating_final.csv\")\n",
        "rt_location = pd.read_csv(\"/content/drive/MyDrive/archive/geoplaces2.csv\")\n",
        "ratings = pd.merge(rt_ratings,rt_location)\n",
        "ratings = ratings[['userID', 'placeID', 'name','rating', 'food_rating', 'service_rating']]"
      ],
      "metadata": {
        "id": "3E4TlnUyHMla"
      },
      "execution_count": 7,
      "outputs": []
    },
    {
      "cell_type": "code",
      "source": [
        "ratings.info()"
      ],
      "metadata": {
        "colab": {
          "base_uri": "https://localhost:8080/"
        },
        "id": "B4tB82quINV7",
        "outputId": "8e8d96d5-2567-433e-9caa-a1daf69b029d"
      },
      "execution_count": 8,
      "outputs": [
        {
          "output_type": "stream",
          "name": "stdout",
          "text": [
            "<class 'pandas.core.frame.DataFrame'>\n",
            "Int64Index: 1161 entries, 0 to 1160\n",
            "Data columns (total 6 columns):\n",
            " #   Column          Non-Null Count  Dtype \n",
            "---  ------          --------------  ----- \n",
            " 0   userID          1161 non-null   object\n",
            " 1   placeID         1161 non-null   int64 \n",
            " 2   name            1161 non-null   object\n",
            " 3   rating          1161 non-null   int64 \n",
            " 4   food_rating     1161 non-null   int64 \n",
            " 5   service_rating  1161 non-null   int64 \n",
            "dtypes: int64(4), object(2)\n",
            "memory usage: 63.5+ KB\n"
          ]
        }
      ]
    },
    {
      "cell_type": "code",
      "source": [
        "ratings.nunique()"
      ],
      "metadata": {
        "colab": {
          "base_uri": "https://localhost:8080/"
        },
        "id": "-DzAernxIPX8",
        "outputId": "b164b483-0771-40d4-8f4c-1efc492fb76a"
      },
      "execution_count": 9,
      "outputs": [
        {
          "output_type": "execute_result",
          "data": {
            "text/plain": [
              "userID            138\n",
              "placeID           130\n",
              "name              129\n",
              "rating              3\n",
              "food_rating         3\n",
              "service_rating      3\n",
              "dtype: int64"
            ]
          },
          "metadata": {},
          "execution_count": 9
        }
      ]
    },
    {
      "cell_type": "markdown",
      "source": [
        "We have 138 users in this dataset and they rated a total number of 130 restaurants, however, we saw here the number of placeID doesn't match the number of restaurant name. So we run below chunk to find out that we have two restaurants both named \"Gorditas Dona Tota\". Since their placeIDs were different, I will treat them as different restaurants."
      ],
      "metadata": {
        "id": "_1LW5mEXITQG"
      }
    },
    {
      "cell_type": "code",
      "source": [
        "rtnames = []\n",
        "for location in rt_location.name:\n",
        "    if location not in rtnames:\n",
        "        rtnames.append(location)\n",
        "    else:\n",
        "        print(location)"
      ],
      "metadata": {
        "colab": {
          "base_uri": "https://localhost:8080/"
        },
        "id": "A2eLcBQSIQlz",
        "outputId": "5b4df743-1107-4432-c6cb-9c8d37378bba"
      },
      "execution_count": 57,
      "outputs": [
        {
          "output_type": "stream",
          "name": "stdout",
          "text": [
            "Gorditas Dona Tota\n"
          ]
        }
      ]
    },
    {
      "cell_type": "code",
      "source": [
        "plt.figure(figsize=(6,4))\n",
        "sns.countplot(x=ratings.rating)"
      ],
      "metadata": {
        "colab": {
          "base_uri": "https://localhost:8080/",
          "height": 405
        },
        "id": "KWwNW0VZIZCk",
        "outputId": "b03b3b91-2542-44d4-edca-21caa4835d19"
      },
      "execution_count": 11,
      "outputs": [
        {
          "output_type": "execute_result",
          "data": {
            "text/plain": [
              "<Axes: xlabel='rating', ylabel='count'>"
            ]
          },
          "metadata": {},
          "execution_count": 11
        },
        {
          "output_type": "display_data",
          "data": {
            "text/plain": [
              "<Figure size 600x400 with 1 Axes>"
            ],
            "image/png": "[encoded data removed]"
          },
          "metadata": {}
        }
      ]
    },
    {
      "cell_type": "code",
      "source": [
        "plt.figure(figsize=(6,4))\n",
        "sns.countplot(x=ratings.food_rating)"
      ],
      "metadata": {
        "colab": {
          "base_uri": "https://localhost:8080/",
          "height": 405
        },
        "id": "OBaedIvNId7o",
        "outputId": "d8ebd1b2-9585-4408-a764-1f0efb2f6758"
      },
      "execution_count": 12,
      "outputs": [
        {
          "output_type": "execute_result",
          "data": {
            "text/plain": [
              "<Axes: xlabel='food_rating', ylabel='count'>"
            ]
          },
          "metadata": {},
          "execution_count": 12
        },
        {
          "output_type": "display_data",
          "data": {
            "text/plain": [
              "<Figure size 600x400 with 1 Axes>"
            ],
            "image/png": "[encoded data removed]"
          },
          "metadata": {}
        }
      ]
    },
    {
      "cell_type": "code",
      "source": [
        "plt.figure(figsize=(6,4))\n",
        "sns.countplot(x=ratings.service_rating)"
      ],
      "metadata": {
        "colab": {
          "base_uri": "https://localhost:8080/",
          "height": 405
        },
        "id": "E_oRaMm3IgT8",
        "outputId": "b368af4c-f044-4f4d-bf0a-42e939b35739"
      },
      "execution_count": 13,
      "outputs": [
        {
          "output_type": "execute_result",
          "data": {
            "text/plain": [
              "<Axes: xlabel='service_rating', ylabel='count'>"
            ]
          },
          "metadata": {},
          "execution_count": 13
        },
        {
          "output_type": "display_data",
          "data": {
            "text/plain": [
              "<Figure size 600x400 with 1 Axes>"
            ],
            "image/png": "[encoded data removed]"
          },
          "metadata": {}
        }
      ]
    },
    {
      "cell_type": "code",
      "source": [
        "ratings.placeID.value_counts()"
      ],
      "metadata": {
        "colab": {
          "base_uri": "https://localhost:8080/"
        },
        "id": "lfzOq4AsIjCP",
        "outputId": "e6a01aef-9ea5-4f7e-ac37-d651efa97d72"
      },
      "execution_count": 14,
      "outputs": [
        {
          "output_type": "execute_result",
          "data": {
            "text/plain": [
              "135085    36\n",
              "132825    32\n",
              "135032    28\n",
              "135052    25\n",
              "132834    25\n",
              "          ..\n",
              "135011     3\n",
              "132717     3\n",
              "134975     3\n",
              "132668     3\n",
              "132766     3\n",
              "Name: placeID, Length: 130, dtype: int64"
            ]
          },
          "metadata": {},
          "execution_count": 14
        }
      ]
    },
    {
      "cell_type": "code",
      "source": [
        "ratings.userID.value_counts()"
      ],
      "metadata": {
        "colab": {
          "base_uri": "https://localhost:8080/"
        },
        "id": "7yqxN145IkMw",
        "outputId": "9afe64f5-330f-4cab-b26d-48efb2428265"
      },
      "execution_count": 15,
      "outputs": [
        {
          "output_type": "execute_result",
          "data": {
            "text/plain": [
              "U1061    18\n",
              "U1106    18\n",
              "U1134    16\n",
              "U1024    15\n",
              "U1022    14\n",
              "         ..\n",
              "U1070     3\n",
              "U1074     3\n",
              "U1039     3\n",
              "U1011     3\n",
              "U1138     3\n",
              "Name: userID, Length: 138, dtype: int64"
            ]
          },
          "metadata": {},
          "execution_count": 15
        }
      ]
    },
    {
      "cell_type": "code",
      "source": [
        "ratings.isnull().sum()"
      ],
      "metadata": {
        "colab": {
          "base_uri": "https://localhost:8080/"
        },
        "id": "11ZgIS8IPUq2",
        "outputId": "281880ad-7f36-400c-bd87-869edb91c0f1"
      },
      "execution_count": 37,
      "outputs": [
        {
          "output_type": "execute_result",
          "data": {
            "text/plain": [
              "userID            0\n",
              "placeID           0\n",
              "name              0\n",
              "rating            0\n",
              "food_rating       0\n",
              "service_rating    0\n",
              "dtype: int64"
            ]
          },
          "metadata": {},
          "execution_count": 37
        }
      ]
    },
    {
      "cell_type": "markdown",
      "source": [
        "#### EDA summarize\n",
        "According to our EDA, there are no null values, which saved us some times for data cleaning. we saw the dataset contains 130 restaurants were rated at least three times on a scale of 0 to 2; it contains 138 users and they rated at least 3 restaurants."
      ],
      "metadata": {
        "id": "vjgN9OF0IoVe"
      }
    },
    {
      "cell_type": "markdown",
      "source": [
        "### **Popularity-Based Recommender System**\n",
        "\n",
        "Recommend the most popular restaurants: First we use groupby restaurant names to calculate how many users rated the restaurant, and the retaurants total ratings accordingly, and the mean of the ratings. Then, we sorted the restaurants by the total ratings in decending order, and show the top 10 most popular restaurants. Lastly, we want to find out the top5 higest average rating restaurants in the top 10 most popular restaurants."
      ],
      "metadata": {
        "id": "N88MmuKiIrm9"
      }
    },
    {
      "cell_type": "code",
      "source": [
        "grouped = ratings.groupby(\"name\").aggregate({\"rating\": [np.size, np.sum, np.mean]})\n",
        "popular = grouped.sort_values((\"rating\", \"size\"), ascending=False)\n",
        "\n",
        "top_10_visit = popular.sort_values((\"rating\",\"size\"), ascending=False)[:10]\n",
        "print(\"Top 10 most popular restaurants\")\n",
        "print(top_10_visit)"
      ],
      "metadata": {
        "colab": {
          "base_uri": "https://localhost:8080/"
        },
        "id": "BYFl0r0LIpZB",
        "outputId": "1e107e88-8453-4b23-8105-e6d3aa6a5669"
      },
      "execution_count": 16,
      "outputs": [
        {
          "output_type": "stream",
          "name": "stdout",
          "text": [
            "Top 10 most popular restaurants\n",
            "                                   rating              \n",
            "                                     size sum      mean\n",
            "name                                                   \n",
            "Tortas Locas Hipocampo                 36  48  1.333333\n",
            "puesto de tacos                        32  41  1.281250\n",
            "Cafeteria y Restaurant El Pacifico     28  33  1.178571\n",
            "La Cantina Restaurante                 25  32  1.280000\n",
            "Gorditas Doa Gloria                    25  25  1.000000\n",
            "Restaurant la Chalita                  24  29  1.208333\n",
            "Restaurante Marisco Sam                22  25  1.136364\n",
            "Restaurante El Cielo Potosino          21  26  1.238095\n",
            "Restaurant Oriental Express            20  25  1.250000\n",
            "La Posada del Virrey                   18  25  1.388889\n"
          ]
        }
      ]
    },
    {
      "cell_type": "code",
      "source": [
        "plt.style.use('seaborn')\n",
        "top_10_visit[\"rating\"][\"size\"].plot(kind='bar')\n",
        "plt.xlabel(\"Restaurant Name\")\n",
        "plt.ylabel(\"Frequency\")\n",
        "plt.xticks(rotation=-45)\n",
        "plt.show()"
      ],
      "metadata": {
        "colab": {
          "base_uri": "https://localhost:8080/",
          "height": 701
        },
        "id": "APyNfFP-Ix8G",
        "outputId": "33c590e6-7c20-4bc2-bedb-ade5b9d4a798"
      },
      "execution_count": 17,
      "outputs": [
        {
          "output_type": "stream",
          "name": "stderr",
          "text": [
            "<ipython-input-17-09680d5ef9b9>:1: MatplotlibDeprecationWarning: The seaborn styles shipped by Matplotlib are deprecated since 3.6, as they no longer correspond to the styles shipped by seaborn. However, they will remain available as 'seaborn-v0_8-<style>'. Alternatively, directly use the seaborn API instead.\n",
            "  plt.style.use('seaborn')\n"
          ]
        },
        {
          "output_type": "display_data",
          "data": {
            "text/plain": [
              "<Figure size 800x550 with 1 Axes>"
            ],
            "image/png": "[encoded data removed]"
          },
          "metadata": {}
        }
      ]
    },
    {
      "cell_type": "code",
      "source": [
        "print(\"Top 5 highest rating restaurants in top 10 most popular restaurants\")\n",
        "top_10_visit.sort_values((\"rating\", \"mean\"), ascending=False)[:5]"
      ],
      "metadata": {
        "colab": {
          "base_uri": "https://localhost:8080/",
          "height": 283
        },
        "id": "gmipcg4lI2tH",
        "outputId": "c7886e1b-9a68-4a1d-a7e7-78b337c561e7"
      },
      "execution_count": 19,
      "outputs": [
        {
          "output_type": "stream",
          "name": "stdout",
          "text": [
            "Top 5 highest rating restaurants in top 10 most popular restaurants\n"
          ]
        },
        {
          "output_type": "execute_result",
          "data": {
            "text/plain": [
              "                            rating              \n",
              "                              size sum      mean\n",
              "name                                            \n",
              "La Posada del Virrey            18  25  1.388889\n",
              "Tortas Locas Hipocampo          36  48  1.333333\n",
              "puesto de tacos                 32  41  1.281250\n",
              "La Cantina Restaurante          25  32  1.280000\n",
              "Restaurant Oriental Express     20  25  1.250000"
            ],
            "text/html": [
              "\n",
              "  <div id=\"df-64f2e5a1-4578-4bee-943a-aebeeafbd357\" class=\"colab-df-container\">\n",
              "    <div>\n",
              "<style scoped>\n",
              "    .dataframe tbody tr th:only-of-type {\n",
              "        vertical-align: middle;\n",
              "    }\n",
              "\n",
              "    .dataframe tbody tr th {\n",
              "        vertical-align: top;\n",
              "    }\n",
              "\n",
              "    .dataframe thead tr th {\n",
              "        text-align: left;\n",
              "    }\n",
              "\n",
              "    .dataframe thead tr:last-of-type th {\n",
              "        text-align: right;\n",
              "    }\n",
              "</style>\n",
              "<table border=\"1\" class=\"dataframe\">\n",
              "  <thead>\n",
              "    <tr>\n",
              "      <th></th>\n",
              "      <th colspan=\"3\" halign=\"left\">rating</th>\n",
              "    </tr>\n",
              "    <tr>\n",
              "      <th></th>\n",
              "      <th>size</th>\n",
              "      <th>sum</th>\n",
              "      <th>mean</th>\n",
              "    </tr>\n",
              "    <tr>\n",
              "      <th>name</th>\n",
              "      <th></th>\n",
              "      <th></th>\n",
              "      <th></th>\n",
              "    </tr>\n",
              "  </thead>\n",
              "  <tbody>\n",
              "    <tr>\n",
              "      <th>La Posada del Virrey</th>\n",
              "      <td>18</td>\n",
              "      <td>25</td>\n",
              "      <td>1.388889</td>\n",
              "    </tr>\n",
              "    <tr>\n",
              "      <th>Tortas Locas Hipocampo</th>\n",
              "      <td>36</td>\n",
              "      <td>48</td>\n",
              "      <td>1.333333</td>\n",
              "    </tr>\n",
              "    <tr>\n",
              "      <th>puesto de tacos</th>\n",
              "      <td>32</td>\n",
              "      <td>41</td>\n",
              "      <td>1.281250</td>\n",
              "    </tr>\n",
              "    <tr>\n",
              "      <th>La Cantina Restaurante</th>\n",
              "      <td>25</td>\n",
              "      <td>32</td>\n",
              "      <td>1.280000</td>\n",
              "    </tr>\n",
              "    <tr>\n",
              "      <th>Restaurant Oriental Express</th>\n",
              "      <td>20</td>\n",
              "      <td>25</td>\n",
              "      <td>1.250000</td>\n",
              "    </tr>\n",
              "  </tbody>\n",
              "</table>\n",
              "</div>\n",
              "    <div class=\"colab-df-buttons\">\n",
              "\n",
              "  <div class=\"colab-df-container\">\n",
              "    <button class=\"colab-df-convert\" onclick=\"convertToInteractive('df-64f2e5a1-4578-4bee-943a-aebeeafbd357')\"\n",
              "            title=\"Convert this dataframe to an interactive table.\"\n",
              "            style=\"display:none;\">\n",
              "\n",
              "  <svg xmlns=\"http://www.w3.org/2000/svg\" height=\"24px\" viewBox=\"0 -960 960 960\">\n",
              "    <path d=\"M120-120v-720h720v720H120Zm60-500h600v-160H180v160Zm220 220h160v-160H400v160Zm0 220h160v-160H400v160ZM180-400h160v-160H180v160Zm440 0h160v-160H620v160ZM180-180h160v-160H180v160Zm440 0h160v-160H620v160Z\"/>\n",
              "  </svg>\n",
              "    </button>\n",
              "\n",
              "  <style>\n",
              "    .colab-df-container {\n",
              "      display:flex;\n",
              "      gap: 12px;\n",
              "    }\n",
              "\n",
              "    .colab-df-convert {\n",
              "      background-color: #E8F0FE;\n",
              "      border: none;\n",
              "      border-radius: 50%;\n",
              "      cursor: pointer;\n",
              "      display: none;\n",
              "      fill: #1967D2;\n",
              "      height: 32px;\n",
              "      padding: 0 0 0 0;\n",
              "      width: 32px;\n",
              "    }\n",
              "\n",
              "    .colab-df-convert:hover {\n",
              "      background-color: #E2EBFA;\n",
              "      box-shadow: 0px 1px 2px rgba(60, 64, 67, 0.3), 0px 1px 3px 1px rgba(60, 64, 67, 0.15);\n",
              "      fill: #174EA6;\n",
              "    }\n",
              "\n",
              "    .colab-df-buttons div {\n",
              "      margin-bottom: 4px;\n",
              "    }\n",
              "\n",
              "    [theme=dark] .colab-df-convert {\n",
              "      background-color: #3B4455;\n",
              "      fill: #D2E3FC;\n",
              "    }\n",
              "\n",
              "    [theme=dark] .colab-df-convert:hover {\n",
              "      background-color: #434B5C;\n",
              "      box-shadow: 0px 1px 3px 1px rgba(0, 0, 0, 0.15);\n",
              "      filter: drop-shadow(0px 1px 2px rgba(0, 0, 0, 0.3));\n",
              "      fill: #FFFFFF;\n",
              "    }\n",
              "  </style>\n",
              "\n",
              "    <script>\n",
              "      const buttonEl =\n",
              "        document.querySelector('#df-64f2e5a1-4578-4bee-943a-aebeeafbd357 button.colab-df-convert');\n",
              "      buttonEl.style.display =\n",
              "        google.colab.kernel.accessAllowed ? 'block' : 'none';\n",
              "\n",
              "      async function convertToInteractive(key) {\n",
              "        const element = document.querySelector('#df-64f2e5a1-4578-4bee-943a-aebeeafbd357');\n",
              "        const dataTable =\n",
              "          await google.colab.kernel.invokeFunction('convertToInteractive',\n",
              "                                                    [key], {});\n",
              "        if (!dataTable) return;\n",
              "\n",
              "        const docLinkHtml = 'Like what you see? Visit the ' +\n",
              "          '<a target=\"_blank\" href=https://colab.research.google.com/notebooks/data_table.ipynb>data table notebook</a>'\n",
              "          + ' to learn more about interactive tables.';\n",
              "        element.innerHTML = '';\n",
              "        dataTable['output_type'] = 'display_data';\n",
              "        await google.colab.output.renderOutput(dataTable, element);\n",
              "        const docLink = document.createElement('div');\n",
              "        docLink.innerHTML = docLinkHtml;\n",
              "        element.appendChild(docLink);\n",
              "      }\n",
              "    </script>\n",
              "  </div>\n",
              "\n",
              "\n",
              "<div id=\"df-df03efe6-e48f-4f67-b138-266552811056\">\n",
              "  <button class=\"colab-df-quickchart\" onclick=\"quickchart('df-df03efe6-e48f-4f67-b138-266552811056')\"\n",
              "            title=\"Suggest charts.\"\n",
              "            style=\"display:none;\">\n",
              "\n",
              "<svg xmlns=\"http://www.w3.org/2000/svg\" height=\"24px\"viewBox=\"0 0 24 24\"\n",
              "     width=\"24px\">\n",
              "    <g>\n",
              "        <path d=\"M19 3H5c-1.1 0-2 .9-2 2v14c0 1.1.9 2 2 2h14c1.1 0 2-.9 2-2V5c0-1.1-.9-2-2-2zM9 17H7v-7h2v7zm4 0h-2V7h2v10zm4 0h-2v-4h2v4z\"/>\n",
              "    </g>\n",
              "</svg>\n",
              "  </button>\n",
              "\n",
              "<style>\n",
              "  .colab-df-quickchart {\n",
              "    background-color: #E8F0FE;\n",
              "    border: none;\n",
              "    border-radius: 50%;\n",
              "    cursor: pointer;\n",
              "    display: none;\n",
              "    fill: #1967D2;\n",
              "    height: 32px;\n",
              "    padding: 0 0 0 0;\n",
              "    width: 32px;\n",
              "  }\n",
              "\n",
              "  .colab-df-quickchart:hover {\n",
              "    background-color: #E2EBFA;\n",
              "    box-shadow: 0px 1px 2px rgba(60, 64, 67, 0.3), 0px 1px 3px 1px rgba(60, 64, 67, 0.15);\n",
              "    fill: #174EA6;\n",
              "  }\n",
              "\n",
              "  [theme=dark] .colab-df-quickchart {\n",
              "    background-color: #3B4455;\n",
              "    fill: #D2E3FC;\n",
              "  }\n",
              "\n",
              "  [theme=dark] .colab-df-quickchart:hover {\n",
              "    background-color: #434B5C;\n",
              "    box-shadow: 0px 1px 3px 1px rgba(0, 0, 0, 0.15);\n",
              "    filter: drop-shadow(0px 1px 2px rgba(0, 0, 0, 0.3));\n",
              "    fill: #FFFFFF;\n",
              "  }\n",
              "</style>\n",
              "\n",
              "  <script>\n",
              "    async function quickchart(key) {\n",
              "      const charts = await google.colab.kernel.invokeFunction(\n",
              "          'suggestCharts', [key], {});\n",
              "    }\n",
              "    (() => {\n",
              "      let quickchartButtonEl =\n",
              "        document.querySelector('#df-df03efe6-e48f-4f67-b138-266552811056 button');\n",
              "      quickchartButtonEl.style.display =\n",
              "        google.colab.kernel.accessAllowed ? 'block' : 'none';\n",
              "    })();\n",
              "  </script>\n",
              "</div>\n",
              "    </div>\n",
              "  </div>\n"
            ]
          },
          "metadata": {},
          "execution_count": 19
        }
      ]
    },
    {
      "cell_type": "markdown",
      "source": [
        "By viewing above information, according to popularity based recommender system: if we have a new user and we don't have any information about this user, we may recommend the most popular restaurant which is Tortas Locas Hipocampo, or we can recommend the highest rating restaurant in the top10 most popular restaurant list, which is La Posada del Virrey."
      ],
      "metadata": {
        "id": "O-aRIoaCI9Xd"
      }
    },
    {
      "cell_type": "markdown",
      "source": [
        "### **Collaborative Filtering**\n",
        "Here we are going to use two methods, one is SVD(metrix factorization) and the other is KNN. The KNN works by calculating the similarity between each pair of items, and then using the similarities to predict what rating will a user give to the item. The SVD methods is use for sparse matrix, it is the factorization of this matrix into the product of three matrices.\n"
      ],
      "metadata": {
        "id": "M6gmQOqzI_yN"
      }
    },
    {
      "cell_type": "code",
      "source": [
        "reader = Reader(rating_scale=(0,2))\n",
        "ratings_matrix = Dataset.load_from_df(ratings[['userID', 'placeID', 'rating']], reader)"
      ],
      "metadata": {
        "id": "-lRCNDfWJEoC"
      },
      "execution_count": 21,
      "outputs": []
    },
    {
      "cell_type": "code",
      "source": [
        "svd = SVD(verbose=True, n_epochs=100)\n",
        "svd_res = cross_validate(svd, ratings_matrix, measures=['RMSE'], cv=3, verbose=True)\n",
        "svd_res"
      ],
      "metadata": {
        "colab": {
          "base_uri": "https://localhost:8080/"
        },
        "id": "fj4yctVKJh2M",
        "outputId": "b2e47829-4341-442b-a938-3c0bb7a40fb6"
      },
      "execution_count": 53,
      "outputs": [
        {
          "output_type": "stream",
          "name": "stdout",
          "text": [
            "Processing epoch 0\n",
            "Processing epoch 1\n",
            "Processing epoch 2\n",
            "Processing epoch 3\n",
            "Processing epoch 4\n",
            "Processing epoch 5\n",
            "Processing epoch 6\n",
            "Processing epoch 7\n",
            "Processing epoch 8\n",
            "Processing epoch 9\n",
            "Processing epoch 10\n",
            "Processing epoch 11\n",
            "Processing epoch 12\n",
            "Processing epoch 13\n",
            "Processing epoch 14\n",
            "Processing epoch 15\n",
            "Processing epoch 16\n",
            "Processing epoch 17\n",
            "Processing epoch 18\n",
            "Processing epoch 19\n",
            "Processing epoch 20\n",
            "Processing epoch 21\n",
            "Processing epoch 22\n",
            "Processing epoch 23\n",
            "Processing epoch 24\n",
            "Processing epoch 25\n",
            "Processing epoch 26\n",
            "Processing epoch 27\n",
            "Processing epoch 28\n",
            "Processing epoch 29\n",
            "Processing epoch 30\n",
            "Processing epoch 31\n",
            "Processing epoch 32\n",
            "Processing epoch 33\n",
            "Processing epoch 34\n",
            "Processing epoch 35\n",
            "Processing epoch 36\n",
            "Processing epoch 37\n",
            "Processing epoch 38\n",
            "Processing epoch 39\n",
            "Processing epoch 40\n",
            "Processing epoch 41\n",
            "Processing epoch 42\n",
            "Processing epoch 43\n",
            "Processing epoch 44\n",
            "Processing epoch 45\n",
            "Processing epoch 46\n",
            "Processing epoch 47\n",
            "Processing epoch 48\n",
            "Processing epoch 49\n",
            "Processing epoch 50\n",
            "Processing epoch 51\n",
            "Processing epoch 52\n",
            "Processing epoch 53\n",
            "Processing epoch 54\n",
            "Processing epoch 55\n",
            "Processing epoch 56\n",
            "Processing epoch 57\n",
            "Processing epoch 58\n",
            "Processing epoch 59\n",
            "Processing epoch 60\n",
            "Processing epoch 61\n",
            "Processing epoch 62\n",
            "Processing epoch 63\n",
            "Processing epoch 64\n",
            "Processing epoch 65\n",
            "Processing epoch 66\n",
            "Processing epoch 67\n",
            "Processing epoch 68\n",
            "Processing epoch 69\n",
            "Processing epoch 70\n",
            "Processing epoch 71\n",
            "Processing epoch 72\n",
            "Processing epoch 73\n",
            "Processing epoch 74\n",
            "Processing epoch 75\n",
            "Processing epoch 76\n",
            "Processing epoch 77\n",
            "Processing epoch 78\n",
            "Processing epoch 79\n",
            "Processing epoch 80\n",
            "Processing epoch 81\n",
            "Processing epoch 82\n",
            "Processing epoch 83\n",
            "Processing epoch 84\n",
            "Processing epoch 85\n",
            "Processing epoch 86\n",
            "Processing epoch 87\n",
            "Processing epoch 88\n",
            "Processing epoch 89\n",
            "Processing epoch 90\n",
            "Processing epoch 91\n",
            "Processing epoch 92\n",
            "Processing epoch 93\n",
            "Processing epoch 94\n",
            "Processing epoch 95\n",
            "Processing epoch 96\n",
            "Processing epoch 97\n",
            "Processing epoch 98\n",
            "Processing epoch 99\n",
            "Processing epoch 0\n",
            "Processing epoch 1\n",
            "Processing epoch 2\n",
            "Processing epoch 3\n",
            "Processing epoch 4\n",
            "Processing epoch 5\n",
            "Processing epoch 6\n",
            "Processing epoch 7\n",
            "Processing epoch 8\n",
            "Processing epoch 9\n",
            "Processing epoch 10\n",
            "Processing epoch 11\n",
            "Processing epoch 12\n",
            "Processing epoch 13\n",
            "Processing epoch 14\n",
            "Processing epoch 15\n",
            "Processing epoch 16\n",
            "Processing epoch 17\n",
            "Processing epoch 18\n",
            "Processing epoch 19\n",
            "Processing epoch 20\n",
            "Processing epoch 21\n",
            "Processing epoch 22\n",
            "Processing epoch 23\n",
            "Processing epoch 24\n",
            "Processing epoch 25\n",
            "Processing epoch 26\n",
            "Processing epoch 27\n",
            "Processing epoch 28\n",
            "Processing epoch 29\n",
            "Processing epoch 30\n",
            "Processing epoch 31\n",
            "Processing epoch 32\n",
            "Processing epoch 33\n",
            "Processing epoch 34\n",
            "Processing epoch 35\n",
            "Processing epoch 36\n",
            "Processing epoch 37\n",
            "Processing epoch 38\n",
            "Processing epoch 39\n",
            "Processing epoch 40\n",
            "Processing epoch 41\n",
            "Processing epoch 42\n",
            "Processing epoch 43\n",
            "Processing epoch 44\n",
            "Processing epoch 45\n",
            "Processing epoch 46\n",
            "Processing epoch 47\n",
            "Processing epoch 48\n",
            "Processing epoch 49\n",
            "Processing epoch 50\n",
            "Processing epoch 51\n",
            "Processing epoch 52\n",
            "Processing epoch 53\n",
            "Processing epoch 54\n",
            "Processing epoch 55\n",
            "Processing epoch 56\n",
            "Processing epoch 57\n",
            "Processing epoch 58\n",
            "Processing epoch 59\n",
            "Processing epoch 60\n",
            "Processing epoch 61\n",
            "Processing epoch 62\n",
            "Processing epoch 63\n",
            "Processing epoch 64\n",
            "Processing epoch 65\n",
            "Processing epoch 66\n",
            "Processing epoch 67\n",
            "Processing epoch 68\n",
            "Processing epoch 69\n",
            "Processing epoch 70\n",
            "Processing epoch 71\n",
            "Processing epoch 72\n",
            "Processing epoch 73\n",
            "Processing epoch 74\n",
            "Processing epoch 75\n",
            "Processing epoch 76\n",
            "Processing epoch 77\n",
            "Processing epoch 78\n",
            "Processing epoch 79\n",
            "Processing epoch 80\n",
            "Processing epoch 81\n",
            "Processing epoch 82\n",
            "Processing epoch 83\n",
            "Processing epoch 84\n",
            "Processing epoch 85\n",
            "Processing epoch 86\n",
            "Processing epoch 87\n",
            "Processing epoch 88\n",
            "Processing epoch 89\n",
            "Processing epoch 90\n",
            "Processing epoch 91\n",
            "Processing epoch 92\n",
            "Processing epoch 93\n",
            "Processing epoch 94\n",
            "Processing epoch 95\n",
            "Processing epoch 96\n",
            "Processing epoch 97\n",
            "Processing epoch 98\n",
            "Processing epoch 99\n",
            "Processing epoch 0\n",
            "Processing epoch 1\n",
            "Processing epoch 2\n",
            "Processing epoch 3\n",
            "Processing epoch 4\n",
            "Processing epoch 5\n",
            "Processing epoch 6\n",
            "Processing epoch 7\n",
            "Processing epoch 8\n",
            "Processing epoch 9\n",
            "Processing epoch 10\n",
            "Processing epoch 11\n",
            "Processing epoch 12\n",
            "Processing epoch 13\n",
            "Processing epoch 14\n",
            "Processing epoch 15\n",
            "Processing epoch 16\n",
            "Processing epoch 17\n",
            "Processing epoch 18\n",
            "Processing epoch 19\n",
            "Processing epoch 20\n",
            "Processing epoch 21\n",
            "Processing epoch 22\n",
            "Processing epoch 23\n",
            "Processing epoch 24\n",
            "Processing epoch 25\n",
            "Processing epoch 26\n",
            "Processing epoch 27\n",
            "Processing epoch 28\n",
            "Processing epoch 29\n",
            "Processing epoch 30\n",
            "Processing epoch 31\n",
            "Processing epoch 32\n",
            "Processing epoch 33\n",
            "Processing epoch 34\n",
            "Processing epoch 35\n",
            "Processing epoch 36\n",
            "Processing epoch 37\n",
            "Processing epoch 38\n",
            "Processing epoch 39\n",
            "Processing epoch 40\n",
            "Processing epoch 41\n",
            "Processing epoch 42\n",
            "Processing epoch 43\n",
            "Processing epoch 44\n",
            "Processing epoch 45\n",
            "Processing epoch 46\n",
            "Processing epoch 47\n",
            "Processing epoch 48\n",
            "Processing epoch 49\n",
            "Processing epoch 50\n",
            "Processing epoch 51\n",
            "Processing epoch 52\n",
            "Processing epoch 53\n",
            "Processing epoch 54\n",
            "Processing epoch 55\n",
            "Processing epoch 56\n",
            "Processing epoch 57\n",
            "Processing epoch 58\n",
            "Processing epoch 59\n",
            "Processing epoch 60\n",
            "Processing epoch 61\n",
            "Processing epoch 62\n",
            "Processing epoch 63\n",
            "Processing epoch 64\n",
            "Processing epoch 65\n",
            "Processing epoch 66\n",
            "Processing epoch 67\n",
            "Processing epoch 68\n",
            "Processing epoch 69\n",
            "Processing epoch 70\n",
            "Processing epoch 71\n",
            "Processing epoch 72\n",
            "Processing epoch 73\n",
            "Processing epoch 74\n",
            "Processing epoch 75\n",
            "Processing epoch 76\n",
            "Processing epoch 77\n",
            "Processing epoch 78\n",
            "Processing epoch 79\n",
            "Processing epoch 80\n",
            "Processing epoch 81\n",
            "Processing epoch 82\n",
            "Processing epoch 83\n",
            "Processing epoch 84\n",
            "Processing epoch 85\n",
            "Processing epoch 86\n",
            "Processing epoch 87\n",
            "Processing epoch 88\n",
            "Processing epoch 89\n",
            "Processing epoch 90\n",
            "Processing epoch 91\n",
            "Processing epoch 92\n",
            "Processing epoch 93\n",
            "Processing epoch 94\n",
            "Processing epoch 95\n",
            "Processing epoch 96\n",
            "Processing epoch 97\n",
            "Processing epoch 98\n",
            "Processing epoch 99\n",
            "Evaluating RMSE of algorithm SVD on 3 split(s).\n",
            "\n",
            "                  Fold 1  Fold 2  Fold 3  Mean    Std     \n",
            "RMSE (testset)    0.6772  0.6757  0.6516  0.6682  0.0117  \n",
            "Fit time          0.14    0.14    0.14    0.14    0.00    \n",
            "Test time         0.01    0.01    0.00    0.00    0.00    \n"
          ]
        },
        {
          "output_type": "execute_result",
          "data": {
            "text/plain": [
              "{'test_rmse': array([0.67720955, 0.67569998, 0.65159478]),\n",
              " 'fit_time': (0.1399672031402588, 0.14397764205932617, 0.13923072814941406),\n",
              " 'test_time': (0.005023956298828125,\n",
              "  0.005513668060302734,\n",
              "  0.003957271575927734)}"
            ]
          },
          "metadata": {},
          "execution_count": 53
        }
      ]
    },
    {
      "cell_type": "code",
      "source": [
        "knn = KNNWithMeans(k=100)\n",
        "knn_res = cross_validate(knn, ratings_matrix, measures=['RMSE'], cv=3, verbose=True)"
      ],
      "metadata": {
        "colab": {
          "base_uri": "https://localhost:8080/"
        },
        "id": "KQ8u8-e4KzED",
        "outputId": "d6769c18-ff92-4c98-e007-8eeaa81e3276"
      },
      "execution_count": 54,
      "outputs": [
        {
          "output_type": "stream",
          "name": "stdout",
          "text": [
            "Computing the msd similarity matrix...\n",
            "Done computing similarity matrix.\n",
            "Computing the msd similarity matrix...\n",
            "Done computing similarity matrix.\n",
            "Computing the msd similarity matrix...\n",
            "Done computing similarity matrix.\n",
            "Evaluating RMSE of algorithm KNNWithMeans on 3 split(s).\n",
            "\n",
            "                  Fold 1  Fold 2  Fold 3  Mean    Std     \n",
            "RMSE (testset)    0.7079  0.6779  0.7271  0.7043  0.0203  \n",
            "Fit time          0.01    0.00    0.00    0.01    0.01    \n",
            "Test time         0.01    0.01    0.00    0.01    0.00    \n"
          ]
        }
      ]
    },
    {
      "cell_type": "code",
      "source": [
        "results = np.array((svd_res['test_rmse'], knn_res['test_rmse']))\n",
        "results\n",
        "df_result = pd.DataFrame(results, index=['SVD', 'KNN'], columns = ['RMSE_fold1', 'RMSE_fold2', 'RMSE_fold3'])\n",
        "df_result['RMSE Mean'] = df_result[['RMSE_fold1', 'RMSE_fold2', 'RMSE_fold3']].mean(axis=1)"
      ],
      "metadata": {
        "id": "J74G3be7NMnA"
      },
      "execution_count": 55,
      "outputs": []
    },
    {
      "cell_type": "code",
      "source": [
        "df_result.sort_values(by='RMSE Mean')"
      ],
      "metadata": {
        "colab": {
          "base_uri": "https://localhost:8080/",
          "height": 111
        },
        "id": "TeOszjIWOPy2",
        "outputId": "7517ee9b-b7f9-4855-e030-3a9cc37a77b2"
      },
      "execution_count": 56,
      "outputs": [
        {
          "output_type": "execute_result",
          "data": {
            "text/plain": [
              "     RMSE_fold1  RMSE_fold2  RMSE_fold3  RMSE Mean\n",
              "SVD    0.677210    0.675700    0.651595   0.668168\n",
              "KNN    0.707899    0.677901    0.727143   0.704314"
            ],
            "text/html": [
              "\n",
              "  <div id=\"df-2cb022f8-37b5-4881-9975-d0ff6325ebb6\" class=\"colab-df-container\">\n",
              "    <div>\n",
              "<style scoped>\n",
              "    .dataframe tbody tr th:only-of-type {\n",
              "        vertical-align: middle;\n",
              "    }\n",
              "\n",
              "    .dataframe tbody tr th {\n",
              "        vertical-align: top;\n",
              "    }\n",
              "\n",
              "    .dataframe thead th {\n",
              "        text-align: right;\n",
              "    }\n",
              "</style>\n",
              "<table border=\"1\" class=\"dataframe\">\n",
              "  <thead>\n",
              "    <tr style=\"text-align: right;\">\n",
              "      <th></th>\n",
              "      <th>RMSE_fold1</th>\n",
              "      <th>RMSE_fold2</th>\n",
              "      <th>RMSE_fold3</th>\n",
              "      <th>RMSE Mean</th>\n",
              "    </tr>\n",
              "  </thead>\n",
              "  <tbody>\n",
              "    <tr>\n",
              "      <th>SVD</th>\n",
              "      <td>0.677210</td>\n",
              "      <td>0.675700</td>\n",
              "      <td>0.651595</td>\n",
              "      <td>0.668168</td>\n",
              "    </tr>\n",
              "    <tr>\n",
              "      <th>KNN</th>\n",
              "      <td>0.707899</td>\n",
              "      <td>0.677901</td>\n",
              "      <td>0.727143</td>\n",
              "      <td>0.704314</td>\n",
              "    </tr>\n",
              "  </tbody>\n",
              "</table>\n",
              "</div>\n",
              "    <div class=\"colab-df-buttons\">\n",
              "\n",
              "  <div class=\"colab-df-container\">\n",
              "    <button class=\"colab-df-convert\" onclick=\"convertToInteractive('df-2cb022f8-37b5-4881-9975-d0ff6325ebb6')\"\n",
              "            title=\"Convert this dataframe to an interactive table.\"\n",
              "            style=\"display:none;\">\n",
              "\n",
              "  <svg xmlns=\"http://www.w3.org/2000/svg\" height=\"24px\" viewBox=\"0 -960 960 960\">\n",
              "    <path d=\"M120-120v-720h720v720H120Zm60-500h600v-160H180v160Zm220 220h160v-160H400v160Zm0 220h160v-160H400v160ZM180-400h160v-160H180v160Zm440 0h160v-160H620v160ZM180-180h160v-160H180v160Zm440 0h160v-160H620v160Z\"/>\n",
              "  </svg>\n",
              "    </button>\n",
              "\n",
              "  <style>\n",
              "    .colab-df-container {\n",
              "      display:flex;\n",
              "      gap: 12px;\n",
              "    }\n",
              "\n",
              "    .colab-df-convert {\n",
              "      background-color: #E8F0FE;\n",
              "      border: none;\n",
              "      border-radius: 50%;\n",
              "      cursor: pointer;\n",
              "      display: none;\n",
              "      fill: #1967D2;\n",
              "      height: 32px;\n",
              "      padding: 0 0 0 0;\n",
              "      width: 32px;\n",
              "    }\n",
              "\n",
              "    .colab-df-convert:hover {\n",
              "      background-color: #E2EBFA;\n",
              "      box-shadow: 0px 1px 2px rgba(60, 64, 67, 0.3), 0px 1px 3px 1px rgba(60, 64, 67, 0.15);\n",
              "      fill: #174EA6;\n",
              "    }\n",
              "\n",
              "    .colab-df-buttons div {\n",
              "      margin-bottom: 4px;\n",
              "    }\n",
              "\n",
              "    [theme=dark] .colab-df-convert {\n",
              "      background-color: #3B4455;\n",
              "      fill: #D2E3FC;\n",
              "    }\n",
              "\n",
              "    [theme=dark] .colab-df-convert:hover {\n",
              "      background-color: #434B5C;\n",
              "      box-shadow: 0px 1px 3px 1px rgba(0, 0, 0, 0.15);\n",
              "      filter: drop-shadow(0px 1px 2px rgba(0, 0, 0, 0.3));\n",
              "      fill: #FFFFFF;\n",
              "    }\n",
              "  </style>\n",
              "\n",
              "    <script>\n",
              "      const buttonEl =\n",
              "        document.querySelector('#df-2cb022f8-37b5-4881-9975-d0ff6325ebb6 button.colab-df-convert');\n",
              "      buttonEl.style.display =\n",
              "        google.colab.kernel.accessAllowed ? 'block' : 'none';\n",
              "\n",
              "      async function convertToInteractive(key) {\n",
              "        const element = document.querySelector('#df-2cb022f8-37b5-4881-9975-d0ff6325ebb6');\n",
              "        const dataTable =\n",
              "          await google.colab.kernel.invokeFunction('convertToInteractive',\n",
              "                                                    [key], {});\n",
              "        if (!dataTable) return;\n",
              "\n",
              "        const docLinkHtml = 'Like what you see? Visit the ' +\n",
              "          '<a target=\"_blank\" href=https://colab.research.google.com/notebooks/data_table.ipynb>data table notebook</a>'\n",
              "          + ' to learn more about interactive tables.';\n",
              "        element.innerHTML = '';\n",
              "        dataTable['output_type'] = 'display_data';\n",
              "        await google.colab.output.renderOutput(dataTable, element);\n",
              "        const docLink = document.createElement('div');\n",
              "        docLink.innerHTML = docLinkHtml;\n",
              "        element.appendChild(docLink);\n",
              "      }\n",
              "    </script>\n",
              "  </div>\n",
              "\n",
              "\n",
              "<div id=\"df-03619710-16a6-4561-86c8-97cc12837c51\">\n",
              "  <button class=\"colab-df-quickchart\" onclick=\"quickchart('df-03619710-16a6-4561-86c8-97cc12837c51')\"\n",
              "            title=\"Suggest charts.\"\n",
              "            style=\"display:none;\">\n",
              "\n",
              "<svg xmlns=\"http://www.w3.org/2000/svg\" height=\"24px\"viewBox=\"0 0 24 24\"\n",
              "     width=\"24px\">\n",
              "    <g>\n",
              "        <path d=\"M19 3H5c-1.1 0-2 .9-2 2v14c0 1.1.9 2 2 2h14c1.1 0 2-.9 2-2V5c0-1.1-.9-2-2-2zM9 17H7v-7h2v7zm4 0h-2V7h2v10zm4 0h-2v-4h2v4z\"/>\n",
              "    </g>\n",
              "</svg>\n",
              "  </button>\n",
              "\n",
              "<style>\n",
              "  .colab-df-quickchart {\n",
              "    background-color: #E8F0FE;\n",
              "    border: none;\n",
              "    border-radius: 50%;\n",
              "    cursor: pointer;\n",
              "    display: none;\n",
              "    fill: #1967D2;\n",
              "    height: 32px;\n",
              "    padding: 0 0 0 0;\n",
              "    width: 32px;\n",
              "  }\n",
              "\n",
              "  .colab-df-quickchart:hover {\n",
              "    background-color: #E2EBFA;\n",
              "    box-shadow: 0px 1px 2px rgba(60, 64, 67, 0.3), 0px 1px 3px 1px rgba(60, 64, 67, 0.15);\n",
              "    fill: #174EA6;\n",
              "  }\n",
              "\n",
              "  [theme=dark] .colab-df-quickchart {\n",
              "    background-color: #3B4455;\n",
              "    fill: #D2E3FC;\n",
              "  }\n",
              "\n",
              "  [theme=dark] .colab-df-quickchart:hover {\n",
              "    background-color: #434B5C;\n",
              "    box-shadow: 0px 1px 3px 1px rgba(0, 0, 0, 0.15);\n",
              "    filter: drop-shadow(0px 1px 2px rgba(0, 0, 0, 0.3));\n",
              "    fill: #FFFFFF;\n",
              "  }\n",
              "</style>\n",
              "\n",
              "  <script>\n",
              "    async function quickchart(key) {\n",
              "      const charts = await google.colab.kernel.invokeFunction(\n",
              "          'suggestCharts', [key], {});\n",
              "    }\n",
              "    (() => {\n",
              "      let quickchartButtonEl =\n",
              "        document.querySelector('#df-03619710-16a6-4561-86c8-97cc12837c51 button');\n",
              "      quickchartButtonEl.style.display =\n",
              "        google.colab.kernel.accessAllowed ? 'block' : 'none';\n",
              "    })();\n",
              "  </script>\n",
              "</div>\n",
              "    </div>\n",
              "  </div>\n"
            ]
          },
          "metadata": {},
          "execution_count": 56
        }
      ]
    },
    {
      "cell_type": "code",
      "source": [],
      "metadata": {
        "id": "CE_L4xiGxc74"
      },
      "execution_count": null,
      "outputs": []
    },
    {
      "cell_type": "markdown",
      "source": [
        "### Summary\n",
        "To sum up, popularity-based recommender system is based on frequency counts, so it is not a personalised recommendation. For example, if we have five new users, and all users will be recommended to the same places. However, collaborative filtering based model will list the restaurants based on the user's past ratings.\n",
        "Based on RMSE for KNN and SVD model, the rmse values in SVD model is better than it in KNN algorithm."
      ],
      "metadata": {
        "id": "Vkhx7biCOdEb"
      }
    }
  ]
}